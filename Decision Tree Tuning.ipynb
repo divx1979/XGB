{
 "cells": [
  {
   "cell_type": "code",
   "execution_count": 1,
   "id": "4b15e13b",
   "metadata": {},
   "outputs": [],
   "source": [
    "import numpy as np\n",
    "import pandas as pd\n",
    "import matplotlib.pyplot as plt\n",
    "import seaborn as sns\n",
    "from sklearn.model_selection import train_test_split\n",
    "from sklearn.model_selection import KFold\n",
    "from sklearn.model_selection import StratifiedKFold\n",
    "from sklearn.preprocessing import LabelEncoder\n",
    "from sklearn.metrics import accuracy_score, classification_report\n",
    "import xgboost as xgb"
   ]
  },
  {
   "cell_type": "code",
   "execution_count": 2,
   "id": "10ac3479",
   "metadata": {},
   "outputs": [],
   "source": [
    "da1_tr = pd.read_csv('/Users/divyeshbhatt/Downloads/Datas/Kaggle_Contests/Otto/train.csv')"
   ]
  },
  {
   "cell_type": "code",
   "execution_count": 3,
   "id": "e13aea1e",
   "metadata": {},
   "outputs": [],
   "source": [
    "import time"
   ]
  },
  {
   "cell_type": "code",
   "execution_count": 4,
   "id": "5580f76c",
   "metadata": {},
   "outputs": [
    {
     "data": {
      "text/html": [
       "<div>\n",
       "<style scoped>\n",
       "    .dataframe tbody tr th:only-of-type {\n",
       "        vertical-align: middle;\n",
       "    }\n",
       "\n",
       "    .dataframe tbody tr th {\n",
       "        vertical-align: top;\n",
       "    }\n",
       "\n",
       "    .dataframe thead th {\n",
       "        text-align: right;\n",
       "    }\n",
       "</style>\n",
       "<table border=\"1\" class=\"dataframe\">\n",
       "  <thead>\n",
       "    <tr style=\"text-align: right;\">\n",
       "      <th></th>\n",
       "      <th>id</th>\n",
       "      <th>feat_1</th>\n",
       "      <th>feat_2</th>\n",
       "      <th>feat_3</th>\n",
       "      <th>feat_4</th>\n",
       "      <th>feat_5</th>\n",
       "      <th>feat_6</th>\n",
       "      <th>feat_7</th>\n",
       "      <th>feat_8</th>\n",
       "      <th>feat_9</th>\n",
       "      <th>...</th>\n",
       "      <th>feat_85</th>\n",
       "      <th>feat_86</th>\n",
       "      <th>feat_87</th>\n",
       "      <th>feat_88</th>\n",
       "      <th>feat_89</th>\n",
       "      <th>feat_90</th>\n",
       "      <th>feat_91</th>\n",
       "      <th>feat_92</th>\n",
       "      <th>feat_93</th>\n",
       "      <th>target</th>\n",
       "    </tr>\n",
       "  </thead>\n",
       "  <tbody>\n",
       "    <tr>\n",
       "      <th>0</th>\n",
       "      <td>1</td>\n",
       "      <td>1</td>\n",
       "      <td>0</td>\n",
       "      <td>0</td>\n",
       "      <td>0</td>\n",
       "      <td>0</td>\n",
       "      <td>0</td>\n",
       "      <td>0</td>\n",
       "      <td>0</td>\n",
       "      <td>0</td>\n",
       "      <td>...</td>\n",
       "      <td>1</td>\n",
       "      <td>0</td>\n",
       "      <td>0</td>\n",
       "      <td>0</td>\n",
       "      <td>0</td>\n",
       "      <td>0</td>\n",
       "      <td>0</td>\n",
       "      <td>0</td>\n",
       "      <td>0</td>\n",
       "      <td>Class_1</td>\n",
       "    </tr>\n",
       "    <tr>\n",
       "      <th>1</th>\n",
       "      <td>2</td>\n",
       "      <td>0</td>\n",
       "      <td>0</td>\n",
       "      <td>0</td>\n",
       "      <td>0</td>\n",
       "      <td>0</td>\n",
       "      <td>0</td>\n",
       "      <td>0</td>\n",
       "      <td>1</td>\n",
       "      <td>0</td>\n",
       "      <td>...</td>\n",
       "      <td>0</td>\n",
       "      <td>0</td>\n",
       "      <td>0</td>\n",
       "      <td>0</td>\n",
       "      <td>0</td>\n",
       "      <td>0</td>\n",
       "      <td>0</td>\n",
       "      <td>0</td>\n",
       "      <td>0</td>\n",
       "      <td>Class_1</td>\n",
       "    </tr>\n",
       "    <tr>\n",
       "      <th>2</th>\n",
       "      <td>3</td>\n",
       "      <td>0</td>\n",
       "      <td>0</td>\n",
       "      <td>0</td>\n",
       "      <td>0</td>\n",
       "      <td>0</td>\n",
       "      <td>0</td>\n",
       "      <td>0</td>\n",
       "      <td>1</td>\n",
       "      <td>0</td>\n",
       "      <td>...</td>\n",
       "      <td>0</td>\n",
       "      <td>0</td>\n",
       "      <td>0</td>\n",
       "      <td>0</td>\n",
       "      <td>0</td>\n",
       "      <td>0</td>\n",
       "      <td>0</td>\n",
       "      <td>0</td>\n",
       "      <td>0</td>\n",
       "      <td>Class_1</td>\n",
       "    </tr>\n",
       "    <tr>\n",
       "      <th>3</th>\n",
       "      <td>4</td>\n",
       "      <td>1</td>\n",
       "      <td>0</td>\n",
       "      <td>0</td>\n",
       "      <td>1</td>\n",
       "      <td>6</td>\n",
       "      <td>1</td>\n",
       "      <td>5</td>\n",
       "      <td>0</td>\n",
       "      <td>0</td>\n",
       "      <td>...</td>\n",
       "      <td>0</td>\n",
       "      <td>1</td>\n",
       "      <td>2</td>\n",
       "      <td>0</td>\n",
       "      <td>0</td>\n",
       "      <td>0</td>\n",
       "      <td>0</td>\n",
       "      <td>0</td>\n",
       "      <td>0</td>\n",
       "      <td>Class_1</td>\n",
       "    </tr>\n",
       "    <tr>\n",
       "      <th>4</th>\n",
       "      <td>5</td>\n",
       "      <td>0</td>\n",
       "      <td>0</td>\n",
       "      <td>0</td>\n",
       "      <td>0</td>\n",
       "      <td>0</td>\n",
       "      <td>0</td>\n",
       "      <td>0</td>\n",
       "      <td>0</td>\n",
       "      <td>0</td>\n",
       "      <td>...</td>\n",
       "      <td>1</td>\n",
       "      <td>0</td>\n",
       "      <td>0</td>\n",
       "      <td>0</td>\n",
       "      <td>0</td>\n",
       "      <td>1</td>\n",
       "      <td>0</td>\n",
       "      <td>0</td>\n",
       "      <td>0</td>\n",
       "      <td>Class_1</td>\n",
       "    </tr>\n",
       "  </tbody>\n",
       "</table>\n",
       "<p>5 rows × 95 columns</p>\n",
       "</div>"
      ],
      "text/plain": [
       "   id  feat_1  feat_2  feat_3  feat_4  feat_5  feat_6  feat_7  feat_8  feat_9  \\\n",
       "0   1       1       0       0       0       0       0       0       0       0   \n",
       "1   2       0       0       0       0       0       0       0       1       0   \n",
       "2   3       0       0       0       0       0       0       0       1       0   \n",
       "3   4       1       0       0       1       6       1       5       0       0   \n",
       "4   5       0       0       0       0       0       0       0       0       0   \n",
       "\n",
       "   ...  feat_85  feat_86  feat_87  feat_88  feat_89  feat_90  feat_91  \\\n",
       "0  ...        1        0        0        0        0        0        0   \n",
       "1  ...        0        0        0        0        0        0        0   \n",
       "2  ...        0        0        0        0        0        0        0   \n",
       "3  ...        0        1        2        0        0        0        0   \n",
       "4  ...        1        0        0        0        0        1        0   \n",
       "\n",
       "   feat_92  feat_93   target  \n",
       "0        0        0  Class_1  \n",
       "1        0        0  Class_1  \n",
       "2        0        0  Class_1  \n",
       "3        0        0  Class_1  \n",
       "4        0        0  Class_1  \n",
       "\n",
       "[5 rows x 95 columns]"
      ]
     },
     "execution_count": 4,
     "metadata": {},
     "output_type": "execute_result"
    }
   ],
   "source": [
    "da1_tr.head()"
   ]
  },
  {
   "cell_type": "code",
   "execution_count": 5,
   "id": "cdf51dcd",
   "metadata": {},
   "outputs": [],
   "source": [
    "X = da1_tr.drop('target', axis = 1)\n",
    "y = da1_tr['target']\n",
    "\n",
    "X_train, X_test, y_train, y_test = train_test_split(X, y, test_size = 0.2, random_state = 42)"
   ]
  },
  {
   "cell_type": "code",
   "execution_count": 6,
   "id": "d0b2f5a0",
   "metadata": {},
   "outputs": [],
   "source": [
    "from sklearn.preprocessing import LabelEncoder\n",
    "\n",
    "lab_enc_y = LabelEncoder().fit_transform(y)"
   ]
  },
  {
   "cell_type": "code",
   "execution_count": 7,
   "id": "2e39edb5",
   "metadata": {},
   "outputs": [],
   "source": [
    "# ## checking on XGB\n",
    "# res = []\n",
    "# num_threads = [1, 2, 3, 4]\n",
    "\n",
    "# for n in num_threads:\n",
    "#     start = time.time()\n",
    "#     mod1 = xgb.XGBClassifier(nthread = n)\n",
    "#     mod1.fit(X, lab_enc_y)\n",
    "#     elapsed = time.time() - start\n",
    "#     print(n, elapsed)\n",
    "#     res.append(elapsed)"
   ]
  },
  {
   "cell_type": "code",
   "execution_count": 8,
   "id": "c909ee01",
   "metadata": {},
   "outputs": [],
   "source": [
    "# plt.plot(num_threads, res)\n",
    "# plt.ylabel('Speed')\n",
    "# plt.xlabel('No Of Threads')\n",
    "# plt.title('No Of Threads V Speed')\n",
    "# plt.show()"
   ]
  },
  {
   "cell_type": "code",
   "execution_count": 9,
   "id": "c83b49b8",
   "metadata": {},
   "outputs": [],
   "source": [
    "from xgboost import XGBClassifier\n",
    "mod1 = xgb.XGBClassifier()"
   ]
  },
  {
   "cell_type": "code",
   "execution_count": 58,
   "id": "55742a5e",
   "metadata": {},
   "outputs": [],
   "source": [
    "##Subsampling"
   ]
  },
  {
   "cell_type": "code",
   "execution_count": 59,
   "id": "d2923653",
   "metadata": {},
   "outputs": [],
   "source": [
    "sub1 = [0.1, 0.2, 0.3, 0.4, 0.5, 0.6, 0.7, 0.8, 0.9, 1.0]"
   ]
  },
  {
   "cell_type": "code",
   "execution_count": 60,
   "id": "517d7a2c",
   "metadata": {},
   "outputs": [],
   "source": [
    "par_gr1 = dict(subsample = sub1)"
   ]
  },
  {
   "cell_type": "code",
   "execution_count": null,
   "id": "114b5fc4",
   "metadata": {},
   "outputs": [],
   "source": []
  },
  {
   "cell_type": "code",
   "execution_count": 47,
   "id": "48510274",
   "metadata": {},
   "outputs": [],
   "source": [
    "# learning_rt = [0.0001, 0.001, 0.01, 0.1, 0.2, 0.3]\n",
    "# par_gr1 = dict(learning_rate = learning_rt)"
   ]
  },
  {
   "cell_type": "code",
   "execution_count": 61,
   "id": "baf858c9",
   "metadata": {},
   "outputs": [],
   "source": [
    "# n_est1 = range(50, 200, 50)\n",
    "# max_depth = (2, 4, 6, 8)\n",
    "# par_gr1 = dict(max_depth = max_depth, n_estimators = n_est1)"
   ]
  },
  {
   "cell_type": "code",
   "execution_count": 62,
   "id": "43641b09",
   "metadata": {},
   "outputs": [],
   "source": [
    "kf1 = StratifiedKFold(n_splits = 10, shuffle = True, random_state = 7)"
   ]
  },
  {
   "cell_type": "code",
   "execution_count": 63,
   "id": "011b04a3",
   "metadata": {},
   "outputs": [],
   "source": [
    "from sklearn.model_selection import GridSearchCV"
   ]
  },
  {
   "cell_type": "code",
   "execution_count": 64,
   "id": "d1f3f7df",
   "metadata": {},
   "outputs": [],
   "source": [
    "gr1 = GridSearchCV(mod1, par_gr1, scoring = 'neg_log_loss', n_jobs = -1, cv = kf1)\n",
    "gr1_res = gr1.fit(X, lab_enc_y)"
   ]
  },
  {
   "cell_type": "code",
   "execution_count": 65,
   "id": "622ec77c",
   "metadata": {},
   "outputs": [
    {
     "name": "stdout",
     "output_type": "stream",
     "text": [
      "-0.007996494820247554 {'subsample': 0.4}\n"
     ]
    }
   ],
   "source": [
    "print(gr1_res.best_score_, gr1_res.best_params_)"
   ]
  },
  {
   "cell_type": "code",
   "execution_count": 66,
   "id": "9f97cec2",
   "metadata": {},
   "outputs": [
    {
     "name": "stdout",
     "output_type": "stream",
     "text": [
      "-0.008485608132757533 0.0019866844592041732 {'subsample': 0.1}\n",
      "-0.008122403619470737 0.0022965792118162407 {'subsample': 0.2}\n",
      "-0.008017259463438751 0.002327666597248559 {'subsample': 0.3}\n",
      "-0.007996494820247554 0.002354785529106813 {'subsample': 0.4}\n",
      "-0.00810083465006613 0.0021073795906298193 {'subsample': 0.5}\n",
      "-0.008276072887717588 0.0025473259313431745 {'subsample': 0.6}\n",
      "-0.008139839384727376 0.0025805670895818326 {'subsample': 0.7}\n",
      "-0.008155863355217858 0.0025966869685714942 {'subsample': 0.8}\n",
      "-0.008223158312448114 0.0025390232566273284 {'subsample': 0.9}\n",
      "-0.008444827343958404 0.0024918085161492096 {'subsample': 1.0}\n"
     ]
    }
   ],
   "source": [
    "means = gr1_res.cv_results_['mean_test_score']\n",
    "std1 = gr1_res.cv_results_['std_test_score']\n",
    "param1 = gr1_res.cv_results_['params']\n",
    "for mean, stdev, param in zip(means, std1, param1):\n",
    "    print(mean, stdev, param)"
   ]
  },
  {
   "cell_type": "code",
   "execution_count": 67,
   "id": "bcaff8e3",
   "metadata": {},
   "outputs": [],
   "source": [
    "## plot"
   ]
  },
  {
   "cell_type": "code",
   "execution_count": 69,
   "id": "16862dd1",
   "metadata": {},
   "outputs": [
    {
     "data": {
      "image/png": "[encoded data removed]",
      "text/plain": [
       "<Figure size 640x480 with 1 Axes>"
      ]
     },
     "metadata": {},
     "output_type": "display_data"
    }
   ],
   "source": [
    "plt.errorbar(sub1, means, yerr = std1)\n",
    "plt.title('XGB sub1 vs log loss')\n",
    "plt.xlabel('sub1')\n",
    "plt.ylabel('log loss')\n",
    "plt.show()"
   ]
  },
  {
   "cell_type": "code",
   "execution_count": null,
   "id": "fc757364",
   "metadata": {},
   "outputs": [],
   "source": [
    "##plot"
   ]
  },
  {
   "cell_type": "code",
   "execution_count": null,
   "id": "0c7a94f9",
   "metadata": {},
   "outputs": [],
   "source": [
    "# scores1 = np.array(means).reshape(len(max_depth), len(n_est1))"
   ]
  },
  {
   "cell_type": "code",
   "execution_count": null,
   "id": "15a85ee4",
   "metadata": {},
   "outputs": [],
   "source": [
    "# for i, value in enumerate(max_depth):\n",
    "#     plt.plot(n_est1, scores1[i], label = 'depth: ' + str(value))\n",
    "# plt.legend()\n",
    "# plt.xlabel('n_est')\n",
    "# plt.ylabel('log_los')\n",
    "# plt.savefig('n_est v log loss')"
   ]
  },
  {
   "cell_type": "code",
   "execution_count": null,
   "id": "a3e485a9",
   "metadata": {},
   "outputs": [],
   "source": []
  }
 ],
 "metadata": {
  "kernelspec": {
   "display_name": "Python 3 (ipykernel)",
   "language": "python",
   "name": "python3"
  },
  "language_info": {
   "codemirror_mode": {
    "name": "ipython",
    "version": 3
   },
   "file_extension": ".py",
   "mimetype": "text/x-python",
   "name": "python",
   "nbconvert_exporter": "python",
   "pygments_lexer": "ipython3",
   "version": "3.11.5"
  }
 },
 "nbformat": 4,
 "nbformat_minor": 5
}
