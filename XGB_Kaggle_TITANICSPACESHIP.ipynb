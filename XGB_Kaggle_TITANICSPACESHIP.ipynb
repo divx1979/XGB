{
 "cells": [
  {
   "cell_type": "code",
   "execution_count": 1,
   "id": "54606820",
   "metadata": {},
   "outputs": [],
   "source": [
    "import numpy as np\n",
    "import pandas as pd\n",
    "import matplotlib.pyplot as plt\n",
    "import seaborn as sns"
   ]
  },
  {
   "cell_type": "code",
   "execution_count": 2,
   "id": "e2a4cfe2",
   "metadata": {},
   "outputs": [],
   "source": [
    "import xgboost as xgb\n",
    "from xgboost import XGBClassifier"
   ]
  },
  {
   "cell_type": "code",
   "execution_count": 3,
   "id": "b65cd806",
   "metadata": {},
   "outputs": [],
   "source": [
    "from sklearn.model_selection import train_test_split\n",
    "from sklearn.metrics import accuracy_score"
   ]
  },
  {
   "cell_type": "code",
   "execution_count": 4,
   "id": "95c02c2c",
   "metadata": {},
   "outputs": [],
   "source": [
    "# da1_train = pd.read_csv('/Users/divyeshbhatt/Downloads/Datas/Kaggle_Contests/Classification/Titan/Spaceship/train.csv')\n",
    "# da1_Valid = pd.read_csv('/Users/divyeshbhatt/Downloads/Datas/Kaggle_Contests/Classification/Titan/Spaceship/test.csv')"
   ]
  },
  {
   "cell_type": "code",
   "execution_count": 5,
   "id": "718606a2",
   "metadata": {},
   "outputs": [
    {
     "name": "stdout",
     "output_type": "stream",
     "text": [
      "Validation Accuracy: 0.8016101207590569\n"
     ]
    }
   ],
   "source": [
    "import pandas as pd\n",
    "import xgboost as xgb\n",
    "from sklearn.model_selection import train_test_split\n",
    "from sklearn.metrics import accuracy_score\n",
    "from sklearn.preprocessing import LabelEncoder\n",
    "\n",
    "# Function to preprocess data\n",
    "def preprocess_data(df):\n",
    "    # Handle missing values for categorical features\n",
    "    for column in ['HomePlanet', 'Destination', 'VIP']:\n",
    "        mode = df[column].mode()[0]\n",
    "        df[column].fillna(mode, inplace=True)\n",
    "\n",
    "    # Handle the Cabin feature by splitting and then imputing\n",
    "    df['Cabin_Deck'] = df['Cabin'].apply(lambda x: str(x).split('/')[0])\n",
    "    df['Cabin_Num'] = df['Cabin'].apply(lambda x: str(x).split('/')[1] if len(str(x).split('/')) > 1 else x)\n",
    "    df['Cabin_Side'] = df['Cabin'].apply(lambda x: str(x).split('/')[2] if len(str(x).split('/')) > 2 else x)\n",
    "    for column in ['Cabin_Deck', 'Cabin_Num', 'Cabin_Side']:\n",
    "        mode = df[column].mode()[0]\n",
    "        df[column].fillna(mode, inplace=True)\n",
    "    df.drop(columns=['Cabin', 'Name'], inplace=True)\n",
    "\n",
    "    # Impute missing values for numerical features\n",
    "    for column in ['Age', 'RoomService', 'FoodCourt', 'ShoppingMall', 'Spa', 'VRDeck']:\n",
    "        if column == 'Age':\n",
    "            median = df[column].median()\n",
    "            df[column].fillna(median, inplace=True)\n",
    "        else:\n",
    "            df[column].fillna(0, inplace=True)\n",
    "\n",
    "    # Encoding categorical variables\n",
    "    label_encoder = LabelEncoder()\n",
    "    for column in ['HomePlanet', 'CryoSleep', 'Destination', 'VIP', 'Cabin_Deck', 'Cabin_Side']:\n",
    "        df[column] = label_encoder.fit_transform(df[column])\n",
    "\n",
    "    # Convert Cabin_Num to numeric\n",
    "    df['Cabin_Num'] = pd.to_numeric(df['Cabin_Num'], errors='coerce')\n",
    "    df['Cabin_Num'].fillna(df['Cabin_Num'].median(), inplace=True)\n",
    "\n",
    "    return df\n",
    "\n",
    "# Load the training data\n",
    "train_data = pd.read_csv('/Users/divyeshbhatt/Downloads/Datas/Kaggle_Contests/Classification/Titan/Spaceship/train.csv')\n",
    "\n",
    "# Preprocess the training data\n",
    "train_data_processed = preprocess_data(train_data)\n",
    "\n",
    "# Splitting the data into features (X) and target variable (y)\n",
    "X = train_data_processed.drop(['PassengerId', 'Transported'], axis=1)\n",
    "y = train_data_processed['Transported']\n",
    "\n",
    "# Splitting into training and validation sets\n",
    "X_train, X_val, y_train, y_val = train_test_split(X, y, test_size=0.2, random_state=42)\n",
    "\n",
    "# Training the XGBoost Model\n",
    "model = xgb.XGBClassifier(use_label_encoder=False, eval_metric='logloss')\n",
    "model.fit(X_train, y_train)\n",
    "\n",
    "# Predicting on the validation set and evaluating the model\n",
    "y_pred = model.predict(X_val)\n",
    "accuracy = accuracy_score(y_val, y_pred)\n",
    "print(f\"Validation Accuracy: {accuracy}\")\n",
    "\n",
    "# Load and preprocess the test data\n",
    "test_data = pd.read_csv('/Users/divyeshbhatt/Downloads/Datas/Kaggle_Contests/Classification/Titan/Spaceship/test.csv')\n",
    "test_data_processed = preprocess_data(test_data)\n",
    "\n",
    "# Prepare test data for prediction\n",
    "X_test = test_data_processed.drop(['PassengerId'], axis=1)\n",
    "\n",
    "# Making predictions on test data\n",
    "test_predictions = model.predict(X_test)\n",
    "\n",
    "# Preparing the submission file\n",
    "submission = pd.DataFrame({\n",
    "    'PassengerId': test_data_processed['PassengerId'],\n",
    "    'Transported': test_predictions\n",
    "})\n",
    "\n",
    "# Save submission file\n",
    "submission.to_csv('submission.csv', index=False)\n",
    "\n",
    "\n"
   ]
  },
  {
   "cell_type": "code",
   "execution_count": null,
   "id": "81f9d0ad",
   "metadata": {},
   "outputs": [],
   "source": []
  }
 ],
 "metadata": {
  "kernelspec": {
   "display_name": "Python 3 (ipykernel)",
   "language": "python",
   "name": "python3"
  },
  "language_info": {
   "codemirror_mode": {
    "name": "ipython",
    "version": 3
   },
   "file_extension": ".py",
   "mimetype": "text/x-python",
   "name": "python",
   "nbconvert_exporter": "python",
   "pygments_lexer": "ipython3",
   "version": "3.11.3"
  }
 },
 "nbformat": 4,
 "nbformat_minor": 5
}
